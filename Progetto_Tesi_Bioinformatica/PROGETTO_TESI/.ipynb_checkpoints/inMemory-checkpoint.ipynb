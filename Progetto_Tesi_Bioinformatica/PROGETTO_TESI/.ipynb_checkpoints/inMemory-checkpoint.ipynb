{
 "cells": [
  {
   "cell_type": "code",
   "execution_count": 13,
   "metadata": {},
   "outputs": [],
   "source": [
    "import re\n",
    "import math"
   ]
  },
  {
   "cell_type": "code",
   "execution_count": 1,
   "metadata": {},
   "outputs": [],
   "source": [
    "NUM_BP_FINESTRA = 1000\n",
    "NUM_SEQUENZE = 5\n",
    "NUM_BASI_MER = 12\n",
    "PERCENTUALE = 0.1"
   ]
  },
  {
   "cell_type": "code",
   "execution_count": 10,
   "metadata": {},
   "outputs": [],
   "source": [
    "BASE_CODE = {'A': 0, 'C': 1, 'G': 2, 'T': 3}"
   ]
  },
  {
   "cell_type": "code",
   "execution_count": 4,
   "metadata": {},
   "outputs": [],
   "source": [
    "f = open('prova.fna')\n",
    "f.readline()\n",
    "cromosoma = f.read() #cromosoma senza la prima riga\n",
    "cromosoma = re.sub(\"\\n\",\"\",cromosoma)"
   ]
  },
  {
   "cell_type": "code",
   "execution_count": 18,
   "metadata": {},
   "outputs": [],
   "source": [
    "def dnaAsByteArray(dnaStr):\n",
    "    seqLength = len(dnaStr)\n",
    "    ba = bytearray(math.ceil(seqLength/4))\n",
    "    for seqPos in range(seqLength):\n",
    "        ba[seqPos//4] |= BASE_CODE[dnaStr[seqPos]] << (2 * (seqPos%4))\n",
    "    return ba"
   ]
  },
  {
   "cell_type": "code",
   "execution_count": 19,
   "metadata": {},
   "outputs": [
    {
     "data": {
      "text/plain": [
       "bytearray(b'\\xd0\\x02')"
      ]
     },
     "execution_count": 19,
     "metadata": {},
     "output_type": "execute_result"
    }
   ],
   "source": [
    "dnaAsByteArray('AACTGA')"
   ]
  },
  {
   "cell_type": "code",
   "execution_count": 23,
   "metadata": {},
   "outputs": [],
   "source": [
    "def kmerCounts(k):\n",
    "    return bytearray(round(2 ** (math.ceil(k/4) - 2)))"
   ]
  },
  {
   "cell_type": "code",
   "execution_count": 25,
   "metadata": {},
   "outputs": [
    {
     "data": {
      "text/plain": [
       "bytearray(b'')"
      ]
     },
     "execution_count": 25,
     "metadata": {},
     "output_type": "execute_result"
    }
   ],
   "source": [
    "kmerCounts(4)"
   ]
  },
  {
   "cell_type": "code",
   "execution_count": null,
   "metadata": {},
   "outputs": [],
   "source": [
    "def appendToKmer(kmerBA, baseCode):\n",
    "    "
   ]
  }
 ],
 "metadata": {
  "kernelspec": {
   "display_name": "Python 3",
   "language": "python",
   "name": "python3"
  },
  "language_info": {
   "codemirror_mode": {
    "name": "ipython",
    "version": 3
   },
   "file_extension": ".py",
   "mimetype": "text/x-python",
   "name": "python",
   "nbconvert_exporter": "python",
   "pygments_lexer": "ipython3",
   "version": "3.6.5"
  }
 },
 "nbformat": 4,
 "nbformat_minor": 4
}
