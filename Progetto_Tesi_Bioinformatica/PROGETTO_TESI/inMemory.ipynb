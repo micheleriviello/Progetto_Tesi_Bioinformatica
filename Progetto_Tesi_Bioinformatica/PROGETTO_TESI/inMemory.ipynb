{
 "cells": [
  {
   "cell_type": "markdown",
   "metadata": {},
   "source": [
    "# Ricerca della regione centromerica in un cromosoma\n",
    "\n",
    "Partendo dalla sequenza di un cromosoma e ipotizzando di non avere informazioni sulla posizione del centromero, la si cerca nella sequenza cercando \"la zona con più ripetizioni\".\n",
    "\n",
    "Il processo descritto in letteratura prevede i seguenti passi:\n",
    "- per farlo si divide il cromosoma in blocchi da _n_ basi (`NUM_BP_FINESTRA`);\n",
    "- per ogni blocco si confrontano tra loro tutte le sottosequenze di lunghezza _k_ (`NUM_BASI_MER`);\n",
    "- si marcano i blocchi in cui vengono trovate in proporzione più di _r_ (`PERCENTUALE`) sequenze non uniche.\n",
    "\n",
    "__Nota__: il processo come descritto presenta un'ambiguità, ovvero non è chiaro se la proporzione tra sequenze non uniche ed il totale debba essere calcolata considerando i due insiemi come tali o come multi-insiemi (considerando il numero di copie di una sequenza); nel primo caso si tratta di un rapporto tra due quantità variabilie, mentre nel secondo caso la quantità quoziente è costante per tutti i blocchi (pari a _n - k + 1_).\n",
    "Il presente script si confà alla prima delle due interpretazioni. \n"
   ]
  },
  {
   "cell_type": "code",
   "execution_count": 252,
   "metadata": {},
   "outputs": [],
   "source": [
    "import re\n",
    "import math\n",
    "import numpy as np\n",
    "import matplotlib.pyplot as plt"
   ]
  },
  {
   "cell_type": "markdown",
   "metadata": {},
   "source": [
    "## Valori delle costanti suggeriti in letteratura\n"
   ]
  },
  {
   "cell_type": "code",
   "execution_count": 253,
   "metadata": {},
   "outputs": [],
   "source": [
    "NUM_BP_FINESTRA = 1000\n",
    "NUM_SEQUENZE = 5\n",
    "NUM_BASI_MER = 12\n",
    "PERCENTUALE = 0.1"
   ]
  },
  {
   "cell_type": "markdown",
   "metadata": {},
   "source": [
    "## Rappresentazione delle sottosequenze di lunghezza _k_\n",
    "\n",
    "Il numero di ripetizioni di ciascuna sequenza verrà mantenuto in memoria in un array di interi.\n",
    "Ogni posizione dell'array corrisponde ad una diversa sequenza di lunghezza _k_.\n",
    "Poichè ogni base può assumere quattro valori, una sequenza può essere rappresentata con _2k_ bit.\n",
    "L'array avrà quindi _2^2k_ posizioni ed occuperà _2^(2k+1)_ byte.\n",
    "\n",
    "Per _k_ minori di 16, che sono i casi che ci interessano, una sequenza può essere rappresentata come intero (se _k_ < 16 vengono utilizzati i _2k_ bit meno significativi).\n",
    "\n",
    "Di seguito vengono definiti i dizionari per fare la conversione tra sequenze di basi rappresentate come caratteri e codifica in base 4.\n"
   ]
  },
  {
   "cell_type": "code",
   "execution_count": 254,
   "metadata": {},
   "outputs": [],
   "source": [
    "BASE_CODE = {'A': 0, 'C': 1, 'G': 2, 'T': 3}\n",
    "BASE_CHAR = {0: 'A', 1: 'C', 2: 'G', 3: 'T'}"
   ]
  },
  {
   "cell_type": "markdown",
   "metadata": {},
   "source": [
    "Le funzioni `seqAsInt()` e `seqToChars` convertono da sequenza di caratteri a intero e viceversa.\n",
    "Per passare da intero a stringa è necessario fornire la lunghezza della sequenza: visto che lo 0 è utilizzato per rappresentare la base A, non sarebbe alrimenti possibile distinguerlo da posizioni in cui non vi sono caratteri."
   ]
  },
  {
   "cell_type": "code",
   "execution_count": 255,
   "metadata": {},
   "outputs": [],
   "source": [
    "def seqAsInt(dnaStr):\n",
    "    # seqLength = len(dnaStr)\n",
    "    if len(dnaStr) == 0:\n",
    "        return 0\n",
    "    dnaInt = BASE_CODE[dnaStr[0]]\n",
    "    for dnaBaseChar in dnaStr[1:]:\n",
    "        dnaInt = dnaInt << 2 | BASE_CODE[dnaBaseChar]\n",
    "    return dnaInt"
   ]
  },
  {
   "cell_type": "code",
   "execution_count": 256,
   "metadata": {},
   "outputs": [],
   "source": [
    "def seqToChars(seqAsInt, seqSize):\n",
    "    seqStr = ''\n",
    "    for seqPos in range(seqSize):\n",
    "        seqStr = BASE_CHAR[seqAsInt & 3] + seqStr\n",
    "        seqAsInt = seqAsInt >> 2\n",
    "    return seqStr"
   ]
  },
  {
   "cell_type": "markdown",
   "metadata": {},
   "source": [
    "La funzione `appendToSeq()` aggiunge una base alla fine di una sequenza, shiftando le altri basi di una posizione a sinistra, mantenendo la rappresentazione come intero.\n",
    "Permette di implementare in forma efficiente una sliding window di lunghezza fissa _k_ su una sequenza più grande (che sarà un blocco di _n_ basi).\n",
    "Per il suddetto motivo, anche in questo caso è necessario passare la lunghezza della sequenza (_k_)."
   ]
  },
  {
   "cell_type": "code",
   "execution_count": 257,
   "metadata": {},
   "outputs": [],
   "source": [
    "def appendToSeq(seqAsInt, dnaBaseChar, seqSize):\n",
    "    return seqAsInt << 2 & (2 ** (seqSize * 2) - 1) | BASE_CODE[dnaBaseChar]"
   ]
  },
  {
   "cell_type": "code",
   "execution_count": 258,
   "metadata": {},
   "outputs": [
    {
     "data": {
      "text/plain": [
       "215"
      ]
     },
     "execution_count": 258,
     "metadata": {},
     "output_type": "execute_result"
    }
   ],
   "source": [
    "appendToSeq(53,'T',12)"
   ]
  },
  {
   "cell_type": "code",
   "execution_count": 259,
   "metadata": {},
   "outputs": [
    {
     "data": {
      "text/plain": [
       "'ACTGTTCACA'"
      ]
     },
     "execution_count": 259,
     "metadata": {},
     "output_type": "execute_result"
    }
   ],
   "source": [
    "seqToChars(seqAsInt('ACTGTTCACA'), 10)"
   ]
  },
  {
   "cell_type": "code",
   "execution_count": 260,
   "metadata": {},
   "outputs": [
    {
     "data": {
      "text/plain": [
       "'ACTGACTTCACA'"
      ]
     },
     "execution_count": 260,
     "metadata": {},
     "output_type": "execute_result"
    }
   ],
   "source": [
    "seqToChars(seqAsInt('ACTGACTTCACA'), 12)"
   ]
  },
  {
   "cell_type": "code",
   "execution_count": 261,
   "metadata": {},
   "outputs": [
    {
     "data": {
      "text/plain": [
       "'CTGACTTCACAC'"
      ]
     },
     "execution_count": 261,
     "metadata": {},
     "output_type": "execute_result"
    }
   ],
   "source": [
    "seqToChars(appendToSeq(seqAsInt('ACTGACTTCACA'),'C', 12), 12)"
   ]
  },
  {
   "cell_type": "markdown",
   "metadata": {},
   "source": [
    "## Funzione per il calcolo delle ripetizioni per ogni blocco\n",
    "\n",
    "La seguente funzione scorre una sequenza in input (`seqStr`) e calcola la proporzione di sequenze diverse di lunghezza _k_ (`kmerSize`) ripetute almeno due volte rispetto al numero totale di sequenze diverse."
   ]
  },
  {
   "cell_type": "code",
   "execution_count": 262,
   "metadata": {},
   "outputs": [],
   "source": [
    "def uniqueKmersRepeatedRatio(seqStr, kmerSize):\n",
    "    kmerCounts = np.zeros((2 ** (kmerSize * 2),), dtype=int)\n",
    "    uniqueKmersFound = 0\n",
    "    uniqueKmersRepeated = 0\n",
    "    if (len(seqStr) < kmerSize):\n",
    "        return kmerCounts\n",
    "    currKmer = seqAsInt(seqStr[:kmerSize - 1])\n",
    "    for seqChar in seqStr[kmerSize - 1:]:\n",
    "        currKmer = appendToSeq(currKmer, seqChar, kmerSize)\n",
    "        kmerCounts[currKmer] += 1\n",
    "        if (kmerCounts[currKmer] == 1):\n",
    "            uniqueKmersFound += 1 \n",
    "        if (kmerCounts[currKmer] == 2):\n",
    "            uniqueKmersRepeated += 1\n",
    "    return uniqueKmersRepeated / uniqueKmersFound"
   ]
  },
  {
   "cell_type": "markdown",
   "metadata": {},
   "source": [
    "## Funzione per il calcolo delle ripetizioni per ogni blocco\n",
    "\n",
    "La seguente funzione prende una sequenza (per esempio un intero cromosoma), la divide in blocchi da _n_ (`blockSize`) basi.\n",
    "Su ognuno di questi blocchi viene eseguita la funzione precedente e calcolata la proporzione di sequenze ripetute. \n",
    "L'output è un array np con la proporzione per ciascuno dei blocchi."
   ]
  },
  {
   "cell_type": "code",
   "execution_count": 263,
   "metadata": {},
   "outputs": [],
   "source": [
    "def repeatedRatioByBlock(seq, blockSize, kmerSize):\n",
    "    windowIndexes = range(math.ceil(len(seq)/blockSize))\n",
    "    rateOfRepeatedKmersByWindow = np.empty(len(windowIndexes))\n",
    "    for windowIndex in windowIndexes: \n",
    "        windowStart = blockSize * windowIndex\n",
    "        window = seq[windowStart: min(windowStart + blockSize, len(seq))]\n",
    "        rateOfRepeatedKmersByWindow[windowIndex] = uniqueKmersRepeatedRatio(window, kmerSize)\n",
    "    return rateOfRepeatedKmersByWindow"
   ]
  },
  {
   "cell_type": "code",
   "execution_count": 264,
   "metadata": {},
   "outputs": [],
   "source": [
    "f = open('chr_21.fasta')\n",
    "app = f.readline()\n",
    "cromosoma = f.read() #cromosoma senza la prima riga\n",
    "cromosoma = re.sub(\"\\n\",\"\",cromosoma)\n",
    "cromosoma = cromosoma.upper()"
   ]
  },
  {
   "cell_type": "code",
   "execution_count": 265,
   "metadata": {},
   "outputs": [
    {
     "name": "stdout",
     "output_type": "stream",
     "text": [
      "CPU times: user 1min 44s, sys: 2min 20s, total: 4min 5s\n",
      "Wall time: 4min 5s\n"
     ]
    }
   ],
   "source": [
    "%%time\n",
    "rateOfRepeatedKmersByWindow = repeatedRatioByBlock(cromosoma, NUM_BP_FINESTRA, NUM_BASI_MER)"
   ]
  },
  {
   "cell_type": "code",
   "execution_count": 266,
   "metadata": {},
   "outputs": [
    {
     "data": {
      "text/plain": [
       "[<matplotlib.lines.Line2D at 0x1385fd610>]"
      ]
     },
     "execution_count": 266,
     "metadata": {},
     "output_type": "execute_result"
    },
    {
     "data": {
      "image/png": "[encoded data removed]",
      "text/plain": [
       "<Figure size 640x480 with 1 Axes>"
      ]
     },
     "metadata": {},
     "output_type": "display_data"
    }
   ],
   "source": [
    "plt.plot(rateOfRepeatedKmersByWindow)"
   ]
  },
  {
   "cell_type": "code",
   "execution_count": 240,
   "metadata": {},
   "outputs": [],
   "source": [
    "windowWitHighRepetition = np.where(rateOfRepeatedKmersByWindow >= 0.1, 1, 0)\n",
    "startRegionIndices = np.where(np.diff(windowWitHighRepetition) > 0)[0]\n",
    "endRegionIndices = np.where(np.diff(windowWitHighRepetition) < 0)[0]\n",
    "if windowWitHighRepetition[0] == 1:\n",
    "    startRegionIndices = np.insert(startRegionIndices, 0, 0)\n",
    "if windowWitHighRepetition[-1] == 1:\n",
    "    endRegionIndices = np.append(endRegionIndices, len(windowWitHighRepetition) - 1)\n",
    "regionSizes = endRegionIndices - startRegionIndices"
   ]
  },
  {
   "cell_type": "code",
   "execution_count": 241,
   "metadata": {},
   "outputs": [],
   "source": [
    "highRepetitionRegions = np.transpose(np.vstack((startRegionIndices, endRegionIndices, regionSizes)))"
   ]
  },
  {
   "cell_type": "code",
   "execution_count": 242,
   "metadata": {},
   "outputs": [
    {
     "data": {
      "text/plain": [
       "836"
      ]
     },
     "execution_count": 242,
     "metadata": {},
     "output_type": "execute_result"
    }
   ],
   "source": [
    "np.max(regionSizes)"
   ]
  },
  {
   "cell_type": "code",
   "execution_count": 243,
   "metadata": {},
   "outputs": [
    {
     "data": {
      "text/plain": [
       "array([[1116, 1952,  836]])"
      ]
     },
     "execution_count": 243,
     "metadata": {},
     "output_type": "execute_result"
    }
   ],
   "source": [
    "np.transpose(np.vstack((startRegionIndices, endRegionIndices, regionSizes)))[regionSizes == 836]"
   ]
  },
  {
   "cell_type": "code",
   "execution_count": 244,
   "metadata": {},
   "outputs": [
    {
     "data": {
      "text/plain": [
       "array([1, 1, 1, ..., 1, 1, 1])"
      ]
     },
     "execution_count": 244,
     "metadata": {},
     "output_type": "execute_result"
    }
   ],
   "source": [
    "windowWitHighRepetition"
   ]
  },
  {
   "cell_type": "code",
   "execution_count": 245,
   "metadata": {},
   "outputs": [
    {
     "data": {
      "text/plain": [
       "array([[    0,     2,     2],\n",
       "       [   68,    69,     1],\n",
       "       [   75,    76,     1],\n",
       "       ...,\n",
       "       [44798, 44800,     2],\n",
       "       [45077, 45078,     1],\n",
       "       [45085, 45090,     5]])"
      ]
     },
     "execution_count": 245,
     "metadata": {},
     "output_type": "execute_result"
    }
   ],
   "source": [
    "np.asarray(highRepetitionRegions)"
   ]
  },
  {
   "cell_type": "code",
   "execution_count": 246,
   "metadata": {},
   "outputs": [],
   "source": [
    "np.savetxt(\"highRepetionsRegions.csv\", np.asarray(highRepetitionRegions), fmt=\"%d\", delimiter=',')"
   ]
  },
  {
   "cell_type": "code",
   "execution_count": 247,
   "metadata": {},
   "outputs": [],
   "source": [
    "np.savetxt(\"windowsWithHighRepetition.csv\", np.asarray(windowWitHighRepetition), fmt=\"%d\", delimiter=',')"
   ]
  },
  {
   "cell_type": "code",
   "execution_count": null,
   "metadata": {},
   "outputs": [],
   "source": []
  }
 ],
 "metadata": {
  "kernelspec": {
   "display_name": "Python 3 (ipykernel)",
   "language": "python",
   "name": "python3"
  },
  "language_info": {
   "codemirror_mode": {
    "name": "ipython",
    "version": 3
   },
   "file_extension": ".py",
   "mimetype": "text/x-python",
   "name": "python",
   "nbconvert_exporter": "python",
   "pygments_lexer": "ipython3",
   "version": "3.9.6"
  }
 },
 "nbformat": 4,
 "nbformat_minor": 4
}
