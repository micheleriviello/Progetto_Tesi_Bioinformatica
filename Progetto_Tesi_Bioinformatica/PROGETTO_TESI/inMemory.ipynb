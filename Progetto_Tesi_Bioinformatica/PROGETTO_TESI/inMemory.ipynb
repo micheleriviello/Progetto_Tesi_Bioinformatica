{
 "cells": [
  {
   "cell_type": "code",
   "execution_count": 52,
   "metadata": {},
   "outputs": [],
   "source": [
    "import re\n",
    "import math\n",
    "import numpy"
   ]
  },
  {
   "cell_type": "code",
   "execution_count": 6,
   "metadata": {},
   "outputs": [],
   "source": [
    "NUM_BP_FINESTRA = 1000\n",
    "NUM_SEQUENZE = 5\n",
    "NUM_BASI_MER = 12\n",
    "PERCENTUALE = 0.1"
   ]
  },
  {
   "cell_type": "code",
   "execution_count": 7,
   "metadata": {},
   "outputs": [],
   "source": [
    "BASE_CODE = {'A': 0, 'C': 1, 'G': 2, 'T': 3}"
   ]
  },
  {
   "cell_type": "code",
   "execution_count": 32,
   "metadata": {},
   "outputs": [],
   "source": [
    "BASE_CHAR = {0: 'A', 1: 'C', 2: 'G', 3: 'T'}"
   ]
  },
  {
   "cell_type": "code",
   "execution_count": 8,
   "metadata": {},
   "outputs": [],
   "source": [
    "f = open('prova.fna')\n",
    "f.readline()\n",
    "cromosoma = f.read() #cromosoma senza la prima riga\n",
    "cromosoma = re.sub(\"\\n\",\"\",cromosoma)"
   ]
  },
  {
   "cell_type": "code",
   "execution_count": 9,
   "metadata": {},
   "outputs": [],
   "source": [
    "def dnaAsByteArray(dnaStr):\n",
    "    seqLength = len(dnaStr)\n",
    "    ba = bytearray(math.ceil(seqLength/4))\n",
    "    for seqPos in range(seqLength):\n",
    "        ba[seqPos//4] |= BASE_CODE[dnaStr[seqPos]] << (2 * (seqPos%4))\n",
    "    return ba"
   ]
  },
  {
   "cell_type": "code",
   "execution_count": 24,
   "metadata": {},
   "outputs": [],
   "source": [
    "def seqAsInt(dnaStr):\n",
    "    # seqLength = len(dnaStr)\n",
    "    if len(dnaStr) == 0:\n",
    "        return 0\n",
    "    dnaInt = BASE_CODE[dnaStr[0]]\n",
    "    for dnaBaseChar in dnaStr[1:]:\n",
    "        dnaInt = dnaInt << 2 | BASE_CODE[dnaBaseChar]\n",
    "    return dnaInt"
   ]
  },
  {
   "cell_type": "code",
   "execution_count": 25,
   "metadata": {},
   "outputs": [
    {
     "data": {
      "text/plain": [
       "53"
      ]
     },
     "execution_count": 25,
     "metadata": {},
     "output_type": "execute_result"
    }
   ],
   "source": [
    "seqAsInt('TCC')"
   ]
  },
  {
   "cell_type": "code",
   "execution_count": 23,
   "metadata": {},
   "outputs": [],
   "source": [
    "def kmerCounts(k):\n",
    "    return bytearray(round(2 ** (math.ceil(k/4) - 2)))"
   ]
  },
  {
   "cell_type": "code",
   "execution_count": 25,
   "metadata": {},
   "outputs": [
    {
     "data": {
      "text/plain": [
       "bytearray(b'')"
      ]
     },
     "execution_count": 25,
     "metadata": {},
     "output_type": "execute_result"
    }
   ],
   "source": [
    "kmerCounts(4)"
   ]
  },
  {
   "cell_type": "code",
   "execution_count": 27,
   "metadata": {},
   "outputs": [],
   "source": [
    "def appendToSeq(seqAsInt, dnaBaseChar, seqSize):\n",
    "    return seqAsInt << 2 & (2 ** (seqSize * 2) - 1) | BASE_CODE[dnaBaseChar]"
   ]
  },
  {
   "cell_type": "code",
   "execution_count": 31,
   "metadata": {},
   "outputs": [
    {
     "data": {
      "text/plain": [
       "215"
      ]
     },
     "execution_count": 31,
     "metadata": {},
     "output_type": "execute_result"
    }
   ],
   "source": [
    "appendToSeq(53,'T',12)"
   ]
  },
  {
   "cell_type": "code",
   "execution_count": 34,
   "metadata": {},
   "outputs": [],
   "source": [
    "def seqToChars(seqAsInt, seqSize):\n",
    "    seqStr = ''\n",
    "    for seqPos in range(seqSize):\n",
    "        seqStr = BASE_CHAR[seqAsInt & 3] + seqStr\n",
    "        seqAsInt = seqAsInt >> 2\n",
    "    return seqStr"
   ]
  },
  {
   "cell_type": "code",
   "execution_count": 35,
   "metadata": {},
   "outputs": [
    {
     "data": {
      "text/plain": [
       "'ACTGTTCACA'"
      ]
     },
     "execution_count": 35,
     "metadata": {},
     "output_type": "execute_result"
    }
   ],
   "source": [
    "seqToChars(seqAsInt('ACTGTTCACA'), 10)"
   ]
  },
  {
   "cell_type": "code",
   "execution_count": 36,
   "metadata": {},
   "outputs": [
    {
     "data": {
      "text/plain": [
       "'ACTGACTTCACA'"
      ]
     },
     "execution_count": 36,
     "metadata": {},
     "output_type": "execute_result"
    }
   ],
   "source": [
    "seqToChars(seqAsInt('ACTGACTTCACA'), 12)"
   ]
  },
  {
   "cell_type": "code",
   "execution_count": 38,
   "metadata": {},
   "outputs": [
    {
     "data": {
      "text/plain": [
       "'CTGACTTCACAC'"
      ]
     },
     "execution_count": 38,
     "metadata": {},
     "output_type": "execute_result"
    }
   ],
   "source": [
    "seqToChars(appendToSeq(seqAsInt('ACTGACTTCACA'),'C', 12), 12)"
   ]
  },
  {
   "cell_type": "code",
   "execution_count": 73,
   "metadata": {},
   "outputs": [],
   "source": [
    "def uniqueKmersRepeatedRatio(seqStr, kmerSize):\n",
    "#    kmerCounts = [0 for x in range(2 ** (kmerSize * 2))]\n",
    "    kmerCounts = numpy.zeros((2 ** (kmerSize * 2),), dtype=int)\n",
    "    uniqueKmersFound = 0\n",
    "    uniqueKmersRepeated = 0\n",
    "    if (len(seqStr) < kmerSize):\n",
    "        return kmerCounts\n",
    "    currKmer = seqAsInt(seqStr[:kmerSize - 1])\n",
    "    for seqChar in seqStr[kmerSize - 1:]:\n",
    "        currKmer = appendToSeq(currKmer, seqChar, kmerSize)\n",
    "        kmerCounts[currKmer] += 1\n",
    "        if (kmerCounts[currKmer] == 1):\n",
    "            uniqueKmersFound += 1 \n",
    "        if (kmerCounts[currKmer] == 2):\n",
    "            uniqueKmersRepeated += 1\n",
    "    return uniqueKmersRepeated / uniqueKmersFound"
   ]
  },
  {
   "cell_type": "code",
   "execution_count": 55,
   "metadata": {},
   "outputs": [],
   "source": [
    "f = open('chr_21.fasta')\n",
    "app = f.readline()\n",
    "cromosoma = f.read() #cromosoma senza la prima riga\n",
    "cromosoma = re.sub(\"\\n\",\"\",cromosoma)\n",
    "cromosoma = cromosoma.upper()"
   ]
  },
  {
   "cell_type": "code",
   "execution_count": 56,
   "metadata": {},
   "outputs": [],
   "source": [
    "windowIndexes = range(len(cromosoma)//NUM_BP_FINESTRA)"
   ]
  },
  {
   "cell_type": "code",
   "execution_count": 89,
   "metadata": {},
   "outputs": [
    {
     "name": "stdout",
     "output_type": "stream",
     "text": [
      "CPU times: user 1min 44s, sys: 2min 12s, total: 3min 57s\n",
      "Wall time: 3min 57s\n"
     ]
    }
   ],
   "source": [
    "%%time\n",
    "#rateOfRepeatedKmersByWindow = []\n",
    "rateOfRepeatedKmersByWindow = numpy.empty(len(windowIndexes))\n",
    "for windowIndex in windowIndexes: \n",
    "#for windowIndex in range(1000): # range reduced for testing\n",
    "    windowStart = NUM_BP_FINESTRA * windowIndex\n",
    "    window = cromosoma[windowStart: min(windowStart + NUM_BP_FINESTRA, len(cromosoma))]\n",
    "    rateOfRepeatedKmersByWindow[windowIndex] = uniqueKmersRepeatedRatio(window, NUM_BASI_MER)"
   ]
  },
  {
   "cell_type": "code",
   "execution_count": 180,
   "metadata": {},
   "outputs": [],
   "source": [
    "windowWitHighRepetition = numpy.where(rateOfRepeatedKmersByWindow >= 0.1, 1, 0)\n",
    "startRegionIndices = numpy.where(numpy.diff(windowWitHighRepetition) > 0)[0]\n",
    "endRegionIndices = numpy.where(numpy.diff(windowWitHighRepetition) < 0)[0]\n",
    "if windowWitHighRepetition[0] == 1:\n",
    "    startRegionIndices = numpy.insert(startRegionIndices, 0, 0)\n",
    "if windowWitHighRepetition[-1] == 1:\n",
    "    endRegionIndices = numpy.append(endRegionIndices, len(windowWitHighRepetition) - 1)\n",
    "regionSizes = endRegionIndices - startRegionIndices"
   ]
  },
  {
   "cell_type": "code",
   "execution_count": 181,
   "metadata": {},
   "outputs": [
    {
     "data": {
      "text/plain": [
       "array([[    0,     2,     2],\n",
       "       [   68,    69,     1],\n",
       "       [   75,    76,     1],\n",
       "       ...,\n",
       "       [44798, 44800,     2],\n",
       "       [45077, 45078,     1],\n",
       "       [45085, 45089,     4]])"
      ]
     },
     "execution_count": 181,
     "metadata": {},
     "output_type": "execute_result"
    }
   ],
   "source": [
    "numpy.transpose(numpy.vstack((startRegionIndices, endRegionIndices, regionSizes)))"
   ]
  },
  {
   "cell_type": "code",
   "execution_count": null,
   "metadata": {},
   "outputs": [],
   "source": []
  }
 ],
 "metadata": {
  "kernelspec": {
   "display_name": "Python 3 (ipykernel)",
   "language": "python",
   "name": "python3"
  },
  "language_info": {
   "codemirror_mode": {
    "name": "ipython",
    "version": 3
   },
   "file_extension": ".py",
   "mimetype": "text/x-python",
   "name": "python",
   "nbconvert_exporter": "python",
   "pygments_lexer": "ipython3",
   "version": "3.9.6"
  }
 },
 "nbformat": 4,
 "nbformat_minor": 4
}
